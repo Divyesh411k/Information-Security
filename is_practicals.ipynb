{
  "nbformat": 4,
  "nbformat_minor": 0,
  "metadata": {
    "colab": {
      "provenance": [],
      "collapsed_sections": [
        "MjGEalkBQs9w",
        "oRHN7FZ3HwOt",
        "2UVjQQeJP7W6",
        "BGPxlAz_TnDN",
        "8NvTQFQNT_bt"
      ]
    },
    "kernelspec": {
      "name": "python3",
      "display_name": "Python 3"
    },
    "language_info": {
      "name": "python"
    }
  },
  "cells": [
    {
      "cell_type": "markdown",
      "source": [
        "#Ceaser cipher"
      ],
      "metadata": {
        "id": "MjGEalkBQs9w"
      }
    },
    {
      "cell_type": "code",
      "source": [
        "alow=[]\n",
        "for i in range(26):\n",
        "  alow.append(chr(97 + i))\n",
        "ahigh=[]\n",
        "for i in range(26):\n",
        "  ahigh.append(chr(65 + i))\n",
        "print(alow)\n",
        "print(ahigh)"
      ],
      "metadata": {
        "colab": {
          "base_uri": "https://localhost:8080/"
        },
        "id": "NeqW_i5dHIpw",
        "outputId": "09459afa-a05a-455f-b75e-605139eb3d79"
      },
      "execution_count": null,
      "outputs": [
        {
          "output_type": "stream",
          "name": "stdout",
          "text": [
            "['a', 'b', 'c', 'd', 'e', 'f', 'g', 'h', 'i', 'j', 'k', 'l', 'm', 'n', 'o', 'p', 'q', 'r', 's', 't', 'u', 'v', 'w', 'x', 'y', 'z']\n",
            "['A', 'B', 'C', 'D', 'E', 'F', 'G', 'H', 'I', 'J', 'K', 'L', 'M', 'N', 'O', 'P', 'Q', 'R', 'S', 'T', 'U', 'V', 'W', 'X', 'Y', 'Z']\n"
          ]
        }
      ]
    },
    {
      "cell_type": "code",
      "source": [
        "def encryption(s, key):\n",
        "    encrypt= ''\n",
        "\n",
        "    for char in s:\n",
        "        if char in alow:\n",
        "            index = (ord(char) - ord('a') + key) % 26\n",
        "            encrypt+=alow[index]\n",
        "        elif char in ahigh:\n",
        "            index = (ord(char) - ord('A') + key) % 26\n",
        "            encrypt+=ahigh[index]\n",
        "        else:\n",
        "            encrypt+=char\n",
        "    return encrypt\n",
        "\n",
        "text=input(\"PLain Text: \")\n",
        "key=int(input('Enter the key: '))\n",
        "result=encryption(text, key)\n",
        "print(\"Cipher Text\",result)\n"
      ],
      "metadata": {
        "colab": {
          "base_uri": "https://localhost:8080/"
        },
        "id": "u-lXBwKwKYsG",
        "outputId": "a2bbc981-2fa4-4ea0-ce8e-8e60cb5d7094"
      },
      "execution_count": null,
      "outputs": [
        {
          "output_type": "stream",
          "name": "stdout",
          "text": [
            "PLain Text: dk\n",
            "Enter the key: 3\n",
            "Cipher Text gn\n"
          ]
        }
      ]
    },
    {
      "cell_type": "code",
      "source": [
        "def decryption(result,key):\n",
        "  return encryption(result,-key)\n",
        "\n",
        "plain=decryption(result,key)\n",
        "print(plain)"
      ],
      "metadata": {
        "colab": {
          "base_uri": "https://localhost:8080/"
        },
        "id": "fOG2Itb0rO_p",
        "outputId": "ad16c4b0-00f1-4e37-b21b-3db21fb9daed"
      },
      "execution_count": null,
      "outputs": [
        {
          "output_type": "stream",
          "name": "stdout",
          "text": [
            "dk\n"
          ]
        }
      ]
    },
    {
      "cell_type": "markdown",
      "source": [
        "#transposition\n"
      ],
      "metadata": {
        "id": "oRHN7FZ3HwOt"
      }
    },
    {
      "cell_type": "code",
      "source": [
        "import math\n",
        "pt = \"wearediscoveredsaveyourself\"\n",
        "key = [4, 3, 2, 1, 7, 5, 6]\n",
        "row = int(math.ceil(len(pt)/len(key)))\n",
        "col = len(key)\n",
        "matrix=[]\n",
        "count=0\n",
        "keysort = sorted(list(key))\n",
        "\n",
        "for i in range(row):\n",
        "    matrix.append([])\n",
        "    for j in range(col):\n",
        "        if count<len(pt) :\n",
        "          matrix[i].append(pt[count])\n",
        "          count+=1\n",
        "        else:\n",
        "          matrix[i].append('x')\n",
        "\n",
        "\n",
        "temp=matrix\n",
        "for i in matrix:\n",
        "    print(i)\n",
        "ct=''\n",
        "\n",
        "for j in keysort:\n",
        "  for i in range(row):\n",
        "    ct+=matrix[i][key.index(j)]\n",
        "ct\n",
        "print(\"Cipher text\")\n",
        "cipher = ct.replace('x','')\n",
        "cipher"
      ],
      "metadata": {
        "colab": {
          "base_uri": "https://localhost:8080/",
          "height": 122
        },
        "id": "KZnraP9_G6rt",
        "outputId": "ccfe7820-9952-4a52-a3a6-1e3e78a70db9"
      },
      "execution_count": null,
      "outputs": [
        {
          "output_type": "stream",
          "name": "stdout",
          "text": [
            "['w', 'e', 'a', 'r', 'e', 'd', 'i']\n",
            "['s', 'c', 'o', 'v', 'e', 'r', 'e']\n",
            "['d', 's', 'a', 'v', 'e', 'y', 'o']\n",
            "['u', 'r', 's', 'e', 'l', 'f', 'x']\n",
            "Cipher text\n"
          ]
        },
        {
          "output_type": "execute_result",
          "data": {
            "text/plain": [
              "'rvveaoasecsrwsdudryfieoeeel'"
            ],
            "application/vnd.google.colaboratory.intrinsic+json": {
              "type": "string"
            }
          },
          "metadata": {},
          "execution_count": 109
        }
      ]
    },
    {
      "cell_type": "code",
      "source": [
        "import math\n",
        "\n",
        "key = [4, 3, 2, 1, 7, 5, 6]\n",
        "\n",
        "row = int(math.ceil(len(ct) / len(key)))\n",
        "col = len(key)\n",
        "matrix = []\n",
        "keysort = sorted(list(key))\n",
        "count = 0\n",
        "\n",
        "for i in range(row):\n",
        "    matrix.append([])\n",
        "    for j in range(col):\n",
        "        if count < len(ct):\n",
        "            matrix[i].append(ct[count])\n",
        "            count += 1\n",
        "        else:\n",
        "            matrix[i].append('x')\n",
        "\n",
        "mat=[]\n",
        "for i in range(row):\n",
        "  a=[]\n",
        "  for j in range(col):\n",
        "    a.append(' ')\n",
        "  mat.append(a)\n",
        "\n",
        "\n",
        "index=0\n",
        "for j in keysort:\n",
        "  for i in range(row):\n",
        "    if index<len(ct):\n",
        "      mat[i][key.index(j)]=ct[index]\n",
        "      index+=1\n",
        "\n",
        "print(\"decypt matrix:\")\n",
        "for i in matrix:\n",
        "    print(i)\n",
        "\n",
        "print(\"encyp matrix:\")\n",
        "for i in mat:\n",
        "    print(i)\n",
        "\n",
        "decrypted_text = ''\n",
        "for i in range(row):\n",
        "  for j in range(col):\n",
        "    decrypted_text+=mat[i][j]\n",
        "\n",
        "decrypted_text=decrypted_text.replace(\"x\",'')\n",
        "print(\"\\nDecrypted Text:\")\n",
        "print(decrypted_text)"
      ],
      "metadata": {
        "colab": {
          "base_uri": "https://localhost:8080/"
        },
        "id": "dtwMUe_czCIj",
        "outputId": "7b31f56e-b9d9-4d62-bcba-1e7ac74de826"
      },
      "execution_count": null,
      "outputs": [
        {
          "output_type": "stream",
          "name": "stdout",
          "text": [
            "decypt matrix:\n",
            "['r', 'v', 'v', 'e', 'a', 'o', 'a']\n",
            "['s', 'e', 'c', 's', 'r', 'w', 's']\n",
            "['d', 'u', 'd', 'r', 'y', 'f', 'i']\n",
            "['e', 'o', 'x', 'e', 'e', 'e', 'l']\n",
            "encyp matrix:\n",
            "['w', 'e', 'a', 'r', 'e', 'd', 'i']\n",
            "['s', 'c', 'o', 'v', 'e', 'r', 'e']\n",
            "['d', 's', 'a', 'v', 'e', 'y', 'o']\n",
            "['u', 'r', 's', 'e', 'l', 'f', 'x']\n",
            "\n",
            "Decrypted Text:\n",
            "wearediscoveredsaveyourself\n"
          ]
        }
      ]
    },
    {
      "cell_type": "markdown",
      "source": [
        "#playfair\n"
      ],
      "metadata": {
        "id": "2UVjQQeJP7W6"
      }
    },
    {
      "cell_type": "code",
      "source": [
        "key='MONARCHY'\n",
        "pt = 'INSTRUMENTS'\n",
        "alpha=''\n",
        "for i in range(26):\n",
        "  alpha+=(chr(65 + i))\n",
        "alpha=alpha.replace('J','')\n",
        "\n",
        "keytemp=key\n",
        "for i in alpha:\n",
        "  if i not in keytemp:\n",
        "    keytemp+=i\n",
        "\n",
        "count=0\n",
        "matrix=[]\n",
        "for i in range(5):\n",
        "    matrix.append([])\n",
        "    for j in range(5):\n",
        "        if count<len(keytemp) :\n",
        "          matrix[i].append(keytemp[count])\n",
        "          count+=1\n",
        "\n",
        "pairs = []\n",
        "def makepair(word):\n",
        "    for i in range(0, len(word), 2):\n",
        "        pair = word[i:i+2]\n",
        "        pairs.append(pair)\n",
        "\n",
        "    if len(word) % 2 == 1:\n",
        "        pairs[-1] += 'X'\n",
        "\n",
        "\n",
        "makepair(pt)\n",
        "\n",
        "pairs"
      ],
      "metadata": {
        "id": "HX3OhYTpP-Zp",
        "colab": {
          "base_uri": "https://localhost:8080/"
        },
        "outputId": "2732539e-8ced-49f6-d322-964b6c612e3d"
      },
      "execution_count": null,
      "outputs": [
        {
          "output_type": "execute_result",
          "data": {
            "text/plain": [
              "['IN', 'ST', 'RU', 'ME', 'NT', 'SX']"
            ]
          },
          "metadata": {},
          "execution_count": 63
        }
      ]
    },
    {
      "cell_type": "code",
      "source": [
        "\n",
        "def find_position(matrix, letter):\n",
        "    for i in range(5):\n",
        "        for j in range(5):\n",
        "            if matrix[i][j] == letter:\n",
        "                return i, j\n",
        "\n",
        "def playfair_cipher(matrix, pairs):\n",
        "    cipher_text = ''\n",
        "    for pair in pairs:\n",
        "        row1, col1 = find_position(matrix, pair[0])\n",
        "        row2, col2 = find_position(matrix, pair[1])\n",
        "\n",
        "        # Same row\n",
        "        if row1 == row2:\n",
        "            cipher_text += matrix[row1][(col1 + 1) % 5] + matrix[row2][(col2 + 1) % 5]\n",
        "        # Same column\n",
        "        elif col1 == col2:\n",
        "            cipher_text += matrix[(row1 + 1) % 5][col1] + matrix[(row2 + 1) % 5][col2]\n",
        "        # Different row and column\n",
        "        else:\n",
        "            cipher_text += matrix[row1][col2] + matrix[row2][col1]\n",
        "\n",
        "    return cipher_text\n",
        "\n",
        "print(\"Playfair Matrix:\")\n",
        "for row in matrix:\n",
        "    print(row)\n",
        "\n",
        "cipher_text = playfair_cipher(matrix, pairs)\n",
        "print(\"\\nPlaintext:\", pt)\n",
        "print(\"Encrypted Text:\", cipher_text)\n"
      ],
      "metadata": {
        "colab": {
          "base_uri": "https://localhost:8080/"
        },
        "id": "flXvYunNQrSY",
        "outputId": "b7e90490-2d3f-4fe2-bea8-e5205b5b71ad"
      },
      "execution_count": null,
      "outputs": [
        {
          "output_type": "stream",
          "name": "stdout",
          "text": [
            "Playfair Matrix:\n",
            "['M', 'O', 'N', 'A', 'R']\n",
            "['C', 'H', 'Y', 'B', 'D']\n",
            "['E', 'F', 'G', 'I', 'K']\n",
            "['L', 'P', 'Q', 'S', 'T']\n",
            "['U', 'V', 'W', 'X', 'Z']\n",
            "\n",
            "Plaintext: INSTRUMENTS\n",
            "Encrypted Text: GATLMZCLRQXA\n"
          ]
        }
      ]
    },
    {
      "cell_type": "code",
      "source": [
        "pairs=[]\n",
        "def makepair(word):\n",
        "    for i in range(0, len(word), 2):\n",
        "        pair = word[i:i+2]\n",
        "        pairs.append(pair)\n",
        "\n",
        "    if len(word) % 2 == 1:\n",
        "        pairs[-1] += 'X'\n",
        "\n",
        "\n",
        "makepair(cipher_text)\n",
        "def playfair_decipher(matrix, pairs):\n",
        "    decrypted_text = ''\n",
        "    for pair in pairs:\n",
        "        row1, col1 = find_position(matrix, pair[0])\n",
        "        row2, col2 = find_position(matrix, pair[1])\n",
        "\n",
        "        # Same row\n",
        "        if row1 == row2:\n",
        "            decrypted_text += matrix[row1][(col1 - 1) % 5] + matrix[row2][(col2 - 1) % 5]\n",
        "        # Same column\n",
        "        elif col1 == col2:\n",
        "            decrypted_text += matrix[(row1 - 1) % 5][col1] + matrix[(row2 - 1) % 5][col2]\n",
        "        # Different row and column\n",
        "        else:\n",
        "            decrypted_text += matrix[row1][col2] + matrix[row2][col1]\n",
        "\n",
        "    return decrypted_text\n",
        "\n",
        "decrypted_text = playfair_decipher(matrix, pairs)\n",
        "decrypted_text=decrypted_text.replace(\"X\",'')\n",
        "print(\"\\nEncrypted Text:\", cipher_text)\n",
        "print(\"Decrypted Text:\", decrypted_text)\n"
      ],
      "metadata": {
        "colab": {
          "base_uri": "https://localhost:8080/"
        },
        "id": "rivbEFInU7b5",
        "outputId": "e09d0229-8b22-487e-ff7c-00f141634df0"
      },
      "execution_count": null,
      "outputs": [
        {
          "output_type": "stream",
          "name": "stdout",
          "text": [
            "\n",
            "Encrypted Text: GATLMZCLRQXA\n",
            "Decrypted Text: INSTRUMENTS\n"
          ]
        }
      ]
    },
    {
      "cell_type": "markdown",
      "source": [
        "#railfence\n"
      ],
      "metadata": {
        "id": "AaXsyVPmiwEm"
      }
    },
    {
      "cell_type": "code",
      "source": [
        "key=3\n",
        "pt=\"hello world\"\n",
        "row=key\n",
        "col=len(pt)\n",
        "matrix=[]\n",
        "for i in range(row):\n",
        "  a=[]\n",
        "  for j in range(col):\n",
        "    a.append(\"\")\n",
        "  matrix.append(a)"
      ],
      "metadata": {
        "id": "753PN82Si0ce"
      },
      "execution_count": null,
      "outputs": []
    },
    {
      "cell_type": "code",
      "source": [
        "dir_down = False\n",
        "row, col = 0, 0\n",
        "\n",
        "for i in range(len(pt)):\n",
        "\n",
        "        if (row == 0) or (row == key - 1):\n",
        "            dir_down = not dir_down\n",
        "\n",
        "        matrix[row][col] = pt[i]\n",
        "        col += 1\n",
        "\n",
        "        if dir_down:\n",
        "            row += 1\n",
        "        else:\n",
        "            row -= 1\n",
        "\n",
        "\n",
        "ct=''\n",
        "print('Rail fence')\n",
        "for i in range(key):\n",
        "  print(matrix[i])\n",
        "\n",
        "for i in range(key):\n",
        "        for j in range(len(pt)):\n",
        "                ct+=matrix[i][j]\n",
        "print(f\"cipher text:{ct}\")"
      ],
      "metadata": {
        "colab": {
          "base_uri": "https://localhost:8080/"
        },
        "id": "RKk5-nf5lL53",
        "outputId": "b5f8185f-00a8-443a-983e-0a9030e99442"
      },
      "execution_count": null,
      "outputs": [
        {
          "output_type": "stream",
          "name": "stdout",
          "text": [
            "Rail fence\n",
            "['h', '', '', '', 'o', '', '', '', 'r', '', '']\n",
            "['', 'e', '', 'l', '', ' ', '', 'o', '', 'l', '']\n",
            "['', '', 'l', '', '', '', 'w', '', '', '', 'd']\n",
            "cipher text:horel ollwd\n"
          ]
        }
      ]
    },
    {
      "cell_type": "code",
      "source": [
        "#decryp\n"
      ],
      "metadata": {
        "colab": {
          "base_uri": "https://localhost:8080/",
          "height": 35
        },
        "id": "GqArUixImjXw",
        "outputId": "e50ea28f-8914-4918-a9d4-7969b952f64a"
      },
      "execution_count": null,
      "outputs": [
        {
          "output_type": "execute_result",
          "data": {
            "text/plain": [
              "'holelwrdlo'"
            ],
            "application/vnd.google.colaboratory.intrinsic+json": {
              "type": "string"
            }
          },
          "metadata": {},
          "execution_count": 17
        }
      ]
    },
    {
      "cell_type": "markdown",
      "source": [
        "#Deffie Hellman"
      ],
      "metadata": {
        "id": "BGPxlAz_TnDN"
      }
    },
    {
      "cell_type": "code",
      "execution_count": null,
      "metadata": {
        "colab": {
          "base_uri": "https://localhost:8080/"
        },
        "id": "rBWE77n3WFTl",
        "outputId": "bbca7060-8f28-421d-dbd5-057563227b46"
      },
      "outputs": [
        {
          "output_type": "stream",
          "name": "stdout",
          "text": [
            "ENTER PRIME NUMBER\n",
            "\n",
            "Enter value of p:23\n",
            "Enter value of q:9\n",
            "Enter value of a:4\n",
            "Enter value of b:3\n",
            "X= 6\n",
            "Y = 16\n",
            "k1 = 9\n",
            "k2 = 9\n"
          ]
        }
      ],
      "source": [
        "print(\"ENTER PRIME NUMBER\\n\")\n",
        "p = int(input(\"Enter value of p:\"))\n",
        "g = int(input(\"Enter value of q:\"))\n",
        "a = int(input(\"Enter value of a:\"))\n",
        "b = int(input(\"Enter value of b:\"))\n",
        "\n",
        "X,y  = g**a % p,g**b % p\n",
        "print(\"X=\", X)\n",
        "print(\"Y =\", y)\n",
        "\n",
        "k1,k2 = y**a % p,X**b % p\n",
        "print(\"k1 =\", k1)\n",
        "print(\"k2 =\", k2)"
      ]
    },
    {
      "cell_type": "code",
      "source": [
        "def prime_checker(p):\n",
        "    if p < 1:\n",
        "        return -1\n",
        "    elif p > 1:\n",
        "        if p == 2:\n",
        "            return 1\n",
        "        for i in range(2, p):\n",
        "            if p % i == 0:\n",
        "                return -1\n",
        "            return 1\n",
        "\n",
        "\n",
        "def primitive_check(g, p, L):\n",
        "    for i in range(1, p):\n",
        "        L.append(pow(g, i) % p)\n",
        "    for i in range(1, p):\n",
        "        if L.count(i) > 1:\n",
        "            L.clear()\n",
        "            return -1\n",
        "        return 1\n",
        "\n",
        "\n",
        "l = []\n",
        "while 1:\n",
        "    P = int(input(\"Enter P : \"))\n",
        "    if prime_checker(P) == -1:\n",
        "        print(\"Number Is Not Prime\")\n",
        "        continue\n",
        "    break\n",
        "\n",
        "while 1:\n",
        "    G = int(input(f\"Enter The Primitive Root Of {P} : \"))\n",
        "    if primitive_check(G, P, l) == -1:\n",
        "        print(f\"Number Is Not A Primitive Root Of {P}\")\n",
        "        continue\n",
        "    break"
      ],
      "metadata": {
        "colab": {
          "base_uri": "https://localhost:8080/"
        },
        "id": "VWUABrluhjYo",
        "outputId": "59508038-8f06-48fd-e3b8-5f8f30e2b66a"
      },
      "execution_count": null,
      "outputs": [
        {
          "name": "stdout",
          "output_type": "stream",
          "text": [
            "Enter P : 23\n",
            "Enter The Primitive Root Of 23 : 9\n",
            "Number Is Not A Primitive Root Of 23\n",
            "Enter The Primitive Root Of 23 : 5\n"
          ]
        }
      ]
    },
    {
      "cell_type": "markdown",
      "source": [
        "#RSA\n"
      ],
      "metadata": {
        "id": "8NvTQFQNT_bt"
      }
    },
    {
      "cell_type": "code",
      "execution_count": null,
      "metadata": {
        "colab": {
          "base_uri": "https://localhost:8080/"
        },
        "id": "UzpqV0McbHM5",
        "outputId": "3eb199fd-3dd6-4df3-cf0f-19110f51d592"
      },
      "outputs": [
        {
          "output_type": "stream",
          "name": "stdout",
          "text": [
            "Enter the value of p: 3\n",
            "Enter the value of q: 7\n",
            "Enter plain text: 12\n",
            "Plain text =  12.0\n",
            "Encrypted data =  3.0\n",
            "Original Message Sent =  12.0\n"
          ]
        }
      ],
      "source": [
        "import math\n",
        "\n",
        "def gcd(a, h):\n",
        "    temp = 0\n",
        "    while(1):\n",
        "        temp = a % h\n",
        "        if (temp == 0):\n",
        "            return h\n",
        "        a = h\n",
        "        h = temp\n",
        "\n",
        "p = int(input(\"Enter the value of p: \"))\n",
        "q = int(input(\"Enter the value of q: \"))\n",
        "n = p * q\n",
        "e = 2\n",
        "phi = (p - 1) * (q - 1)\n",
        "\n",
        "while (e < phi):\n",
        "    if (gcd(e, phi) == 1):\n",
        "        break\n",
        "    else:\n",
        "        e = e + 1\n",
        "\n",
        "k = 2\n",
        "d = (1 + (k * phi)) / e\n",
        "\n",
        "msg = float(input(\"Enter plain text: \"))\n",
        "\n",
        "print(\"Plain text = \", msg)\n",
        "\n",
        "c = pow(msg, e)\n",
        "c = math.fmod(c, n)\n",
        "print(\"Encrypted data = \", c)\n",
        "\n",
        "m = pow(c, d)\n",
        "m = math.fmod(m, n)\n",
        "print(\"Original Message Sent = \", m)"
      ]
    }
  ]
}