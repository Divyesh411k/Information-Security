{
  "nbformat": 4,
  "nbformat_minor": 0,
  "metadata": {
    "colab": {
      "provenance": [],
      "collapsed_sections": [
        "q3LUtvUWcGP9",
        "B3g79ihrQ_a3",
        "MjGEalkBQs9w",
        "AaXsyVPmiwEm",
        "oRHN7FZ3HwOt",
        "A0dGzG4p_WKD",
        "2UVjQQeJP7W6",
        "5VZB4wz1tETb",
        "Did-VyX7mO2w",
        "8NvTQFQNT_bt",
        "fqZMk7kBtXha",
        "BGPxlAz_TnDN"
      ]
    },
    "kernelspec": {
      "name": "python3",
      "display_name": "Python 3"
    },
    "language_info": {
      "name": "python"
    }
  },
  "cells": [
    {
      "cell_type": "markdown",
      "source": [
        "#Euclidean"
      ],
      "metadata": {
        "id": "q3LUtvUWcGP9"
      }
    },
    {
      "cell_type": "code",
      "source": [
        "#EUCLIDEAN\n",
        "def gcd(a, b):\n",
        "  if b == 0:\n",
        "    return a\n",
        "  else:\n",
        "    return gcd(b, (a % b))\n",
        "\n",
        "gcd(50,65)\n"
      ],
      "metadata": {
        "colab": {
          "base_uri": "https://localhost:8080/"
        },
        "id": "AKIuAe1jV4e5",
        "outputId": "23d0e757-e2d4-46ec-e2d0-100c77a496c9"
      },
      "execution_count": null,
      "outputs": [
        {
          "output_type": "execute_result",
          "data": {
            "text/plain": [
              "5"
            ]
          },
          "metadata": {},
          "execution_count": 29
        }
      ]
    },
    {
      "cell_type": "code",
      "source": [
        "def extended(a,b):\n",
        "  r=a%b\n",
        "  s=[1,0]\n",
        "  t=[0,1]\n",
        "  i=2\n",
        "  while(r!=0):\n",
        "    q=a//b\n",
        "    s.append(s[i-2]-q*s[i-1])\n",
        "    t.append(t[i-2]-q*t[i-1])\n",
        "    i+=1\n",
        "\n",
        "    r=a%b\n",
        "    a=b\n",
        "    b=r\n",
        "\n",
        "  return abs(s[-2]*a+b*t[-2])\n",
        "\n",
        "extended(161,28)"
      ],
      "metadata": {
        "colab": {
          "base_uri": "https://localhost:8080/"
        },
        "id": "DwWtgTr1XnaX",
        "outputId": "e5fb197d-cb20-4fc4-8615-ba626822bddf"
      },
      "execution_count": null,
      "outputs": [
        {
          "output_type": "execute_result",
          "data": {
            "text/plain": [
              "7"
            ]
          },
          "metadata": {},
          "execution_count": 46
        }
      ]
    },
    {
      "cell_type": "markdown",
      "source": [
        "#VERNAM CIPEHR\n"
      ],
      "metadata": {
        "id": "B3g79ihrQ_a3"
      }
    },
    {
      "cell_type": "code",
      "source": [
        "a=[]\n",
        "for i in range(26):\n",
        "  a.append(chr(i+65))\n",
        "print(a)"
      ],
      "metadata": {
        "colab": {
          "base_uri": "https://localhost:8080/"
        },
        "id": "8ZcB0cS9RV7k",
        "outputId": "4bc269ae-384a-4d4d-e319-d6669c24a844"
      },
      "execution_count": null,
      "outputs": [
        {
          "output_type": "stream",
          "name": "stdout",
          "text": [
            "['A', 'B', 'C', 'D', 'E', 'F', 'G', 'H', 'I', 'J', 'K', 'L', 'M', 'N', 'O', 'P', 'Q', 'R', 'S', 'T', 'U', 'V', 'W', 'X', 'Y', 'Z']\n"
          ]
        }
      ]
    },
    {
      "cell_type": "code",
      "source": [
        "pt='HELLO'\n",
        "key='DGHBC'\n",
        "ptvalue=[]\n",
        "keyvalue=[]\n",
        "for j in pt:\n",
        "    if j in a:\n",
        "      ptvalue.append(a.index(j))\n",
        "\n",
        "for j in key:\n",
        "    if j in a:\n",
        "      keyvalue.append(a.index(j))\n",
        "print(ptvalue)\n",
        "print(keyvalue)"
      ],
      "metadata": {
        "colab": {
          "base_uri": "https://localhost:8080/"
        },
        "id": "3tM7NWcoSRk2",
        "outputId": "cdcde978-c786-4dd3-c4d1-4b5206bb8152"
      },
      "execution_count": null,
      "outputs": [
        {
          "output_type": "stream",
          "name": "stdout",
          "text": [
            "[7, 4, 11, 11, 14]\n",
            "[3, 6, 7, 1, 2]\n"
          ]
        }
      ]
    },
    {
      "cell_type": "code",
      "source": [
        "ctvalue=[]\n",
        "for i in range(len(ptvalue)):\n",
        "  ctvalue.append((ptvalue[i]+keyvalue[i])%26)\n",
        "print(ctvalue )\n",
        "\n",
        "ct=''\n",
        "for i in ctvalue:\n",
        "  ct+=a[i]\n",
        "ct"
      ],
      "metadata": {
        "colab": {
          "base_uri": "https://localhost:8080/",
          "height": 54
        },
        "id": "r9wy4kkmTr8K",
        "outputId": "9a599131-cdc4-427f-8503-7cedeae10191"
      },
      "execution_count": null,
      "outputs": [
        {
          "output_type": "stream",
          "name": "stdout",
          "text": [
            "[10, 10, 18, 12, 16]\n"
          ]
        },
        {
          "output_type": "execute_result",
          "data": {
            "text/plain": [
              "'KKSMQ'"
            ],
            "application/vnd.google.colaboratory.intrinsic+json": {
              "type": "string"
            }
          },
          "metadata": {},
          "execution_count": 28
        }
      ]
    },
    {
      "cell_type": "markdown",
      "source": [
        "#Ceaser cipher"
      ],
      "metadata": {
        "id": "MjGEalkBQs9w"
      }
    },
    {
      "cell_type": "code",
      "source": [
        "alow=[]\n",
        "for i in range(26):\n",
        "  alow.append(chr(97 + i))\n",
        "ahigh=[]\n",
        "for i in range(26):\n",
        "  ahigh.append(chr(65 + i))\n",
        "print(alow)\n",
        "print(ahigh)"
      ],
      "metadata": {
        "colab": {
          "base_uri": "https://localhost:8080/"
        },
        "id": "NeqW_i5dHIpw",
        "outputId": "ad1a0632-6e22-46af-d485-0ec2839df70e"
      },
      "execution_count": null,
      "outputs": [
        {
          "output_type": "stream",
          "name": "stdout",
          "text": [
            "['a', 'b', 'c', 'd', 'e', 'f', 'g', 'h', 'i', 'j', 'k', 'l', 'm', 'n', 'o', 'p', 'q', 'r', 's', 't', 'u', 'v', 'w', 'x', 'y', 'z']\n",
            "['A', 'B', 'C', 'D', 'E', 'F', 'G', 'H', 'I', 'J', 'K', 'L', 'M', 'N', 'O', 'P', 'Q', 'R', 'S', 'T', 'U', 'V', 'W', 'X', 'Y', 'Z']\n"
          ]
        }
      ]
    },
    {
      "cell_type": "code",
      "source": [
        "def encryption(s, key):\n",
        "    encrypt= ''\n",
        "\n",
        "    for char in s:\n",
        "        if char in alow:\n",
        "            index =( alow.index(char)+key)%26\n",
        "            encrypt+=alow[index]\n",
        "        elif char in ahigh:\n",
        "            index = (ahigh.index(char)+key)%26\n",
        "            encrypt+=ahigh[index]\n",
        "        else:\n",
        "            encrypt+=char\n",
        "    return encrypt\n",
        "\n",
        "text=input(\"PLain Text: \")\n",
        "key=int(input('Enter the key: '))\n",
        "result=encryption(text, key)\n",
        "print(\"Cipher Text\",result)\n"
      ],
      "metadata": {
        "colab": {
          "base_uri": "https://localhost:8080/"
        },
        "id": "u-lXBwKwKYsG",
        "outputId": "2a70210c-fabf-486c-df51-8d88e030586a"
      },
      "execution_count": null,
      "outputs": [
        {
          "output_type": "stream",
          "name": "stdout",
          "text": [
            "PLain Text: Dk\n",
            "Enter the key: 3\n",
            "Cipher Text Gn\n"
          ]
        }
      ]
    },
    {
      "cell_type": "code",
      "source": [
        "def decryption(result,key):\n",
        "  return encryption(result,-key)\n",
        "\n",
        "plain=decryption(result,key)\n",
        "print(plain)"
      ],
      "metadata": {
        "colab": {
          "base_uri": "https://localhost:8080/"
        },
        "id": "fOG2Itb0rO_p",
        "outputId": "ad16c4b0-00f1-4e37-b21b-3db21fb9daed"
      },
      "execution_count": null,
      "outputs": [
        {
          "output_type": "stream",
          "name": "stdout",
          "text": [
            "dk\n"
          ]
        }
      ]
    },
    {
      "cell_type": "markdown",
      "source": [
        "#railfence\n"
      ],
      "metadata": {
        "id": "AaXsyVPmiwEm"
      }
    },
    {
      "cell_type": "code",
      "source": [
        "key=3\n",
        "pt=\"hello world\"\n",
        "row=key\n",
        "col=len(pt)\n",
        "matrix=[]\n",
        "for i in range(row):\n",
        "  a=[]\n",
        "  for j in range(col):\n",
        "    a.append(\"\")\n",
        "  matrix.append(a)"
      ],
      "metadata": {
        "id": "753PN82Si0ce"
      },
      "execution_count": null,
      "outputs": []
    },
    {
      "cell_type": "code",
      "source": [
        "dir_down = False\n",
        "row, col = 0, 0\n",
        "\n",
        "for i in range(len(pt)):\n",
        "        if (row == 0) or (row == key - 1):\n",
        "            dir_down = not dir_down\n",
        "\n",
        "        matrix[row][col] = pt[i]\n",
        "        col += 1\n",
        "\n",
        "        if dir_down:\n",
        "            row += 1\n",
        "        else:\n",
        "            row -= 1\n",
        "\n",
        "ct=''\n",
        "print('Rail fence')\n",
        "for i in range(key):\n",
        "  print(matrix[i])\n",
        "\n",
        "for i in range(key):\n",
        "        for j in range(len(pt)):\n",
        "                ct+=matrix[i][j]\n",
        "print(f\"cipher text:{ct}\")"
      ],
      "metadata": {
        "colab": {
          "base_uri": "https://localhost:8080/"
        },
        "id": "RKk5-nf5lL53",
        "outputId": "9e7a0e69-dde7-483b-95bd-d802294612d6"
      },
      "execution_count": null,
      "outputs": [
        {
          "output_type": "stream",
          "name": "stdout",
          "text": [
            "Rail fence\n",
            "['h', '', '', 'l', 'o', '', '', '', 'r', '', '']\n",
            "['', 'e', 'l', 'l', '', ' ', '', 'o', '', 'l', '']\n",
            "['', 'e', 'l', '', '', '', 'w', '', '', '', 'd']\n",
            "cipher text:hlorell olelwd\n"
          ]
        }
      ]
    },
    {
      "cell_type": "code",
      "source": [
        "#decryp"
      ],
      "metadata": {
        "colab": {
          "base_uri": "https://localhost:8080/",
          "height": 35
        },
        "id": "GqArUixImjXw",
        "outputId": "e50ea28f-8914-4918-a9d4-7969b952f64a"
      },
      "execution_count": null,
      "outputs": [
        {
          "output_type": "execute_result",
          "data": {
            "text/plain": [
              "'holelwrdlo'"
            ],
            "application/vnd.google.colaboratory.intrinsic+json": {
              "type": "string"
            }
          },
          "metadata": {},
          "execution_count": 17
        }
      ]
    },
    {
      "cell_type": "markdown",
      "source": [
        "#transposition\n"
      ],
      "metadata": {
        "id": "oRHN7FZ3HwOt"
      }
    },
    {
      "cell_type": "code",
      "source": [
        "import math\n",
        "pt = \"wearediscoveredsaveyourself\"\n",
        "key = [4, 3, 2, 1, 7, 5, 6]\n",
        "row = int(math.ceil(len(pt)/len(key)))\n",
        "col = len(key)\n",
        "matrix=[]\n",
        "count=0\n",
        "keysort = sorted(list(key))\n",
        "\n",
        "for i in range(row):\n",
        "    matrix.append([])\n",
        "    for j in range(col):\n",
        "        if count<len(pt) :\n",
        "          matrix[i].append(pt[count])\n",
        "          count+=1\n",
        "        else:\n",
        "          matrix[i].append('x')\n",
        "\n",
        "for i in matrix:\n",
        "    print(i)\n",
        "ct=''\n",
        "\n",
        "for j in keysort:\n",
        "  for i in range(row):\n",
        "    ct+=matrix[i][key.index(j)]\n",
        "ct\n",
        "print(\"Cipher text\")\n",
        "cipher = ct.replace('x','')\n",
        "cipher"
      ],
      "metadata": {
        "colab": {
          "base_uri": "https://localhost:8080/",
          "height": 122
        },
        "id": "KZnraP9_G6rt",
        "outputId": "ccfe7820-9952-4a52-a3a6-1e3e78a70db9"
      },
      "execution_count": null,
      "outputs": [
        {
          "output_type": "stream",
          "name": "stdout",
          "text": [
            "['w', 'e', 'a', 'r', 'e', 'd', 'i']\n",
            "['s', 'c', 'o', 'v', 'e', 'r', 'e']\n",
            "['d', 's', 'a', 'v', 'e', 'y', 'o']\n",
            "['u', 'r', 's', 'e', 'l', 'f', 'x']\n",
            "Cipher text\n"
          ]
        },
        {
          "output_type": "execute_result",
          "data": {
            "text/plain": [
              "'rvveaoasecsrwsdudryfieoeeel'"
            ],
            "application/vnd.google.colaboratory.intrinsic+json": {
              "type": "string"
            }
          },
          "metadata": {},
          "execution_count": 109
        }
      ]
    },
    {
      "cell_type": "markdown",
      "source": [
        "###decrpt\n"
      ],
      "metadata": {
        "id": "A0dGzG4p_WKD"
      }
    },
    {
      "cell_type": "code",
      "source": [
        "import math\n",
        "\n",
        "key = [4, 3, 2, 1, 7, 5, 6]\n",
        "\n",
        "row = int(math.ceil(len(ct) / len(key)))\n",
        "col = len(key)\n",
        "matrix = []\n",
        "keysort = sorted(list(key))\n",
        "count = 0\n",
        "\n",
        "for i in range(row):\n",
        "    matrix.append([])\n",
        "    for j in range(col):\n",
        "        if count < len(ct):\n",
        "            matrix[i].append(ct[count])\n",
        "            count += 1\n",
        "        else:\n",
        "            matrix[i].append('x')\n",
        "\n",
        "mat=[]\n",
        "for i in range(row):\n",
        "  a=[]\n",
        "  for j in range(col):\n",
        "    a.append(' ')\n",
        "  mat.append(a)\n",
        "\n",
        "\n",
        "index=0\n",
        "for j in keysort:\n",
        "  for i in range(row):\n",
        "    if index<len(ct):\n",
        "      mat[i][key.index(j)]=ct[index]\n",
        "      index+=1\n",
        "\n",
        "print(\"decypt matrix:\")\n",
        "for i in matrix:\n",
        "    print(i)\n",
        "\n",
        "print(\"encyp matrix:\")\n",
        "for i in mat:\n",
        "    print(i)\n",
        "\n",
        "decrypted_text = ''\n",
        "for i in range(row):\n",
        "  for j in range(col):\n",
        "    decrypted_text+=mat[i][j]\n",
        "\n",
        "decrypted_text=decrypted_text.replace(\"x\",'')\n",
        "print(\"\\nDecrypted Text:\")\n",
        "print(decrypted_text)"
      ],
      "metadata": {
        "colab": {
          "base_uri": "https://localhost:8080/"
        },
        "id": "dtwMUe_czCIj",
        "outputId": "7b31f56e-b9d9-4d62-bcba-1e7ac74de826"
      },
      "execution_count": null,
      "outputs": [
        {
          "output_type": "stream",
          "name": "stdout",
          "text": [
            "decypt matrix:\n",
            "['r', 'v', 'v', 'e', 'a', 'o', 'a']\n",
            "['s', 'e', 'c', 's', 'r', 'w', 's']\n",
            "['d', 'u', 'd', 'r', 'y', 'f', 'i']\n",
            "['e', 'o', 'x', 'e', 'e', 'e', 'l']\n",
            "encyp matrix:\n",
            "['w', 'e', 'a', 'r', 'e', 'd', 'i']\n",
            "['s', 'c', 'o', 'v', 'e', 'r', 'e']\n",
            "['d', 's', 'a', 'v', 'e', 'y', 'o']\n",
            "['u', 'r', 's', 'e', 'l', 'f', 'x']\n",
            "\n",
            "Decrypted Text:\n",
            "wearediscoveredsaveyourself\n"
          ]
        }
      ]
    },
    {
      "cell_type": "markdown",
      "source": [
        "#playfair\n"
      ],
      "metadata": {
        "id": "2UVjQQeJP7W6"
      }
    },
    {
      "cell_type": "code",
      "source": [
        "key='MONARCHY'\n",
        "pt = 'INSTRUMENTS'\n",
        "alpha=''\n",
        "for i in range(26):\n",
        "  alpha+=(chr(65 + i))\n",
        "alpha=alpha.replace('J','')\n",
        "\n",
        "keytemp=key\n",
        "for i in alpha:\n",
        "  if i not in keytemp:\n",
        "    keytemp+=i\n",
        "\n",
        "count=0\n",
        "matrix=[]\n",
        "for i in range(5):\n",
        "    matrix.append([])\n",
        "    for j in range(5):\n",
        "        if count<len(keytemp) :\n",
        "          matrix[i].append(keytemp[count])\n",
        "          count+=1\n",
        "\n",
        "pairs = []\n",
        "def makepair(word):\n",
        "    for i in range(0, len(word), 2):\n",
        "        pair = word[i:i+2]\n",
        "        pairs.append(pair)\n",
        "\n",
        "    if len(word) % 2 == 1:\n",
        "        pairs[-1] += 'X'\n",
        "\n",
        "\n",
        "makepair(pt)\n",
        "\n",
        "pairs"
      ],
      "metadata": {
        "id": "HX3OhYTpP-Zp",
        "colab": {
          "base_uri": "https://localhost:8080/"
        },
        "outputId": "6688242a-ee38-4358-82d0-98224cfe06cf"
      },
      "execution_count": null,
      "outputs": [
        {
          "output_type": "stream",
          "name": "stdout",
          "text": [
            "0\n",
            "2\n",
            "4\n",
            "6\n",
            "8\n",
            "10\n"
          ]
        },
        {
          "output_type": "execute_result",
          "data": {
            "text/plain": [
              "['IN', 'ST', 'RU', 'ME', 'NT', 'SX']"
            ]
          },
          "metadata": {},
          "execution_count": 88
        }
      ]
    },
    {
      "cell_type": "code",
      "source": [
        "def find_position(matrix, letter):\n",
        "    for i in range(5):\n",
        "        for j in range(5):\n",
        "            if matrix[i][j] == letter:\n",
        "                return i, j\n",
        "\n",
        "def playfair_cipher(matrix, pairs):\n",
        "    cipher_text = ''\n",
        "    for pair in pairs:\n",
        "        row1, col1 = find_position(matrix, pair[0])\n",
        "        row2, col2 = find_position(matrix, pair[1])\n",
        "\n",
        "        # Same row\n",
        "        if row1 == row2:\n",
        "            cipher_text += matrix[row1][(col1 + 1) % 5] + matrix[row2][(col2 + 1) % 5]\n",
        "        # Same column\n",
        "        elif col1 == col2:\n",
        "            cipher_text += matrix[(row1 + 1) % 5][col1] + matrix[(row2 + 1) % 5][col2]\n",
        "        # Different row and column\n",
        "        else:\n",
        "            cipher_text += matrix[row1][col2] + matrix[row2][col1]\n",
        "\n",
        "    return cipher_text\n",
        "\n",
        "print(\"Playfair Matrix:\")\n",
        "for row in matrix:\n",
        "    print(row)\n",
        "\n",
        "cipher_text = playfair_cipher(matrix, pairs)\n",
        "print(\"\\nPlaintext:\", pt)\n",
        "print(\"Encrypted Text:\", cipher_text)\n"
      ],
      "metadata": {
        "colab": {
          "base_uri": "https://localhost:8080/"
        },
        "id": "flXvYunNQrSY",
        "outputId": "b7e90490-2d3f-4fe2-bea8-e5205b5b71ad"
      },
      "execution_count": null,
      "outputs": [
        {
          "output_type": "stream",
          "name": "stdout",
          "text": [
            "Playfair Matrix:\n",
            "['M', 'O', 'N', 'A', 'R']\n",
            "['C', 'H', 'Y', 'B', 'D']\n",
            "['E', 'F', 'G', 'I', 'K']\n",
            "['L', 'P', 'Q', 'S', 'T']\n",
            "['U', 'V', 'W', 'X', 'Z']\n",
            "\n",
            "Plaintext: INSTRUMENTS\n",
            "Encrypted Text: GATLMZCLRQXA\n"
          ]
        }
      ]
    },
    {
      "cell_type": "markdown",
      "source": [
        "###decipher"
      ],
      "metadata": {
        "id": "5VZB4wz1tETb"
      }
    },
    {
      "cell_type": "code",
      "source": [
        "pairs=[]\n",
        "def makepair(word):\n",
        "    for i in range(0, len(word), 2):\n",
        "        pair = word[i:i+2]\n",
        "        pairs.append(pair)\n",
        "\n",
        "    if len(word) % 2 == 1:\n",
        "        pairs[-1] += 'X'\n",
        "\n",
        "\n",
        "makepair(cipher_text)\n",
        "def playfair_decipher(matrix, pairs):\n",
        "    decrypted_text = ''\n",
        "    for pair in pairs:\n",
        "        row1, col1 = find_position(matrix, pair[0])\n",
        "        row2, col2 = find_position(matrix, pair[1])\n",
        "\n",
        "        # Same row\n",
        "        if row1 == row2:\n",
        "            decrypted_text += matrix[row1][(col1 - 1) % 5] + matrix[row2][(col2 - 1) % 5]\n",
        "        # Same column\n",
        "        elif col1 == col2:\n",
        "            decrypted_text += matrix[(row1 - 1) % 5][col1] + matrix[(row2 - 1) % 5][col2]\n",
        "        # Different row and column\n",
        "        else:\n",
        "            decrypted_text += matrix[row1][col2] + matrix[row2][col1]\n",
        "\n",
        "    return decrypted_text\n",
        "\n",
        "decrypted_text = playfair_decipher(matrix, pairs)\n",
        "decrypted_text=decrypted_text.replace(\"X\",'')\n",
        "print(\"\\nEncrypted Text:\", cipher_text)\n",
        "print(\"Decrypted Text:\", decrypted_text)\n"
      ],
      "metadata": {
        "colab": {
          "base_uri": "https://localhost:8080/"
        },
        "id": "rivbEFInU7b5",
        "outputId": "e09d0229-8b22-487e-ff7c-00f141634df0"
      },
      "execution_count": null,
      "outputs": [
        {
          "output_type": "stream",
          "name": "stdout",
          "text": [
            "\n",
            "Encrypted Text: GATLMZCLRQXA\n",
            "Decrypted Text: INSTRUMENTS\n"
          ]
        }
      ]
    },
    {
      "cell_type": "markdown",
      "source": [
        "#RSA"
      ],
      "metadata": {
        "id": "Did-VyX7mO2w"
      }
    },
    {
      "cell_type": "code",
      "source": [
        "import math\n",
        "def gcd(a, b):\n",
        "\ttemp = 0\n",
        "\twhile(1):\n",
        "\t\ttemp = a % b\n",
        "\t\tif (temp == 0):\n",
        "\t\t\treturn b\n",
        "\t\ta =b\n",
        "\t\tb = temp\n",
        "\n",
        "p = 3\n",
        "q = 7\n",
        "n = p*q\n",
        "e = 2\n",
        "phi = (p-1)*(q-1)\n",
        "\n",
        "while (e < phi):\n",
        "\tif(gcd(e, phi) == 1):\n",
        "\t\tbreak\n",
        "\telse:\n",
        "\t\te = e+1\n",
        "\n",
        "k = 2\n",
        "d = (1 + (k*phi))/e\n",
        "\n",
        "msg = 12.0\n",
        "\n",
        "print(\"Message data = \", msg)\n",
        "\n",
        "c = pow(msg, e)\n",
        "c = c%n\n",
        "print(\"Encrypted data = \", c)\n",
        "\n",
        "m = pow(c, d)\n",
        "m = m%n\n",
        "print(\"Original Message Sent = \", m)\n"
      ],
      "metadata": {
        "colab": {
          "base_uri": "https://localhost:8080/"
        },
        "id": "2RoQeYlomQcn",
        "outputId": "fb3e08e0-6f19-4c07-bc67-588d53227c33"
      },
      "execution_count": null,
      "outputs": [
        {
          "output_type": "stream",
          "name": "stdout",
          "text": [
            "Message data =  12.0\n",
            "Encrypted data =  3.0\n",
            "Original Message Sent =  12.0\n"
          ]
        }
      ]
    },
    {
      "cell_type": "markdown",
      "source": [
        "#RSA digital signature\n"
      ],
      "metadata": {
        "id": "8NvTQFQNT_bt"
      }
    },
    {
      "cell_type": "code",
      "source": [
        "def extended(a,b):\n",
        "  r=a%b\n",
        "  s=[1,0]\n",
        "  t=[0,1]\n",
        "  i=2\n",
        "  while(r!=0):\n",
        "    q=a//b\n",
        "    s.append(s[i-2]-q*s[i-1])\n",
        "    t.append(t[i-2]-q*t[i-1])\n",
        "    i+=1\n",
        "\n",
        "    r=a%b\n",
        "    a=b\n",
        "    b=r\n",
        "\n",
        "  return t[-2]"
      ],
      "metadata": {
        "id": "vUUEdH_Td-NP"
      },
      "execution_count": null,
      "outputs": []
    },
    {
      "cell_type": "code",
      "source": [
        "p,q,e=7,11,13\n",
        "n=p*q\n",
        "phi=(p-1)*(q-1)\n",
        "\n",
        "d= extended(phi,e)\n",
        "if d<0:\n",
        "  d+=phi\n",
        "d"
      ],
      "metadata": {
        "colab": {
          "base_uri": "https://localhost:8080/"
        },
        "id": "NlU4gxQ1cfWm",
        "outputId": "be329af8-7002-44f6-f8b5-e75eb2790382"
      },
      "execution_count": null,
      "outputs": [
        {
          "output_type": "execute_result",
          "data": {
            "text/plain": [
              "37"
            ]
          },
          "metadata": {},
          "execution_count": 73
        }
      ]
    },
    {
      "cell_type": "code",
      "source": [
        "publickey=[e,n]\n",
        "privatekey=[d,n]\n",
        "pt=17\n",
        "\n",
        "ct=(17**e) % n\n",
        "print(\"Cipher text\",ct)\n",
        "\n",
        "decryption=(ct**d) % n\n",
        "print(\"original text\",decryption)"
      ],
      "metadata": {
        "colab": {
          "base_uri": "https://localhost:8080/"
        },
        "id": "KBIqrFYgfxat",
        "outputId": "e75c4e2b-a59c-4124-b1ab-0fe799b2bf66"
      },
      "execution_count": null,
      "outputs": [
        {
          "output_type": "stream",
          "name": "stdout",
          "text": [
            "Cipher text 73\n",
            "original text 17\n"
          ]
        }
      ]
    },
    {
      "cell_type": "markdown",
      "source": [
        "#Deffie hellman"
      ],
      "metadata": {
        "id": "fqZMk7kBtXha"
      }
    },
    {
      "cell_type": "code",
      "source": [
        "# Diffie-Hellman Code\n",
        "\n",
        "def prime_checker(p):\n",
        "\t# Checks If the number entered is a Prime Number or not\n",
        "\tif p < 1:\n",
        "\t\treturn -1\n",
        "\telif p > 1:\n",
        "\t\tif p == 2:\n",
        "\t\t\treturn 1\n",
        "\t\tfor i in range(2, p):\n",
        "\t\t\tif p % i == 0:\n",
        "\t\t\t\treturn -1\n",
        "\t\t\treturn 1\n",
        "\n",
        "\n",
        "def primitive_check(g, p, L):\n",
        "\t# Checks If The Entered Number Is A Primitive Root Or Not\n",
        "\tfor i in range(1, p):\n",
        "\t\tL.append((g**i) % p)\n",
        "\tfor i in range(1, p):\n",
        "\t\tif L.count(i) > 1:\n",
        "\t\t\tL.clear()\n",
        "\t\t\treturn -1\n",
        "\t\treturn 1\n",
        "\n",
        "\n",
        "l = []\n",
        "while 1:\n",
        "\tP = int(input(\"Enter P : \"))\n",
        "\tif prime_checker(P) == -1:\n",
        "\t\tprint(\"Number Is Not Prime, Please Enter Again!\")\n",
        "\t\tcontinue\n",
        "\tbreak\n",
        "\n",
        "while 1:\n",
        "\tG = int(input(f\"Enter The Primitive Root Of {P} : \"))\n",
        "\tif primitive_check(G, P, l) == -1:\n",
        "\t\tprint(f\"Number Is Not A Primitive Root Of {P}, Please Try Again!\")\n",
        "\t\tcontinue\n",
        "\tbreak\n",
        "\n",
        "# Private Keys\n",
        "x1, x2 = int(input(\"Enter The Private Key Of User 1 : \")), int(input(\"Enter The Private Key Of User 2 : \"))\n",
        "while 1:\n",
        "\tif x1 >= P or x2 >= P:\n",
        "\t\tprint(f\"Private Key Of Both The Users Should Be Less Than {P}!\")\n",
        "\t\tcontinue\n",
        "\tbreak\n",
        "\n",
        "# Calculate Public Keys\n",
        "y1, y2 = pow(G, x1) % P, pow(G, x2) % P\n",
        "\n",
        "# Generate Secret Keys\n",
        "k1, k2 = pow(y2, x1) % P, pow(y1, x2) % P\n",
        "\n",
        "print(f\"\\nSecret Key For User 1 Is {k1}\\nSecret Key For User 2 Is {k2}\\n\")\n",
        "\n",
        "if k1 == k2:\n",
        "\tprint(\"Keys Have Been Exchanged Successfully\")\n",
        "else:\n",
        "\tprint(\"Keys Have Not Been Exchanged Successfully\")\n",
        "print(l)"
      ],
      "metadata": {
        "colab": {
          "base_uri": "https://localhost:8080/"
        },
        "id": "VWUABrluhjYo",
        "outputId": "846e6033-b0e4-4aa6-f4c2-04ea31ce87a8"
      },
      "execution_count": null,
      "outputs": [
        {
          "output_type": "stream",
          "name": "stdout",
          "text": [
            "Enter P : 23\n",
            "Enter The Primitive Root Of 23 : 3\n",
            "Number Is Not A Primitive Root Of 23, Please Try Again!\n",
            "Enter The Primitive Root Of 23 : 7\n",
            "Enter The Private Key Of User 1 : 4\n",
            "Enter The Private Key Of User 2 : 6\n",
            "\n",
            "Secret Key For User 1 Is 3\n",
            "Secret Key For User 2 Is 3\n",
            "\n",
            "Keys Have Been Exchanged Successfully\n",
            "[7, 3, 21, 9, 17, 4, 5, 12, 15, 13, 22, 16, 20, 2, 14, 6, 19, 18, 11, 8, 10, 1]\n"
          ]
        }
      ]
    },
    {
      "cell_type": "code",
      "execution_count": null,
      "metadata": {
        "colab": {
          "base_uri": "https://localhost:8080/"
        },
        "id": "rBWE77n3WFTl",
        "outputId": "34fa6777-fdb3-43bc-e13d-c9ca0b2e6667"
      },
      "outputs": [
        {
          "output_type": "stream",
          "name": "stdout",
          "text": [
            "ENTER PRIME NUMBER\n",
            "\n",
            "Enter value of p:23\n",
            "Enter A primitive root of p:7\n",
            "Enter value of a:9\n",
            "Enter value of b:5\n",
            "X= 15\n",
            "Y = 17\n",
            "k1 = 7\n",
            "k2 = 7\n"
          ]
        }
      ],
      "source": [
        "print(\"ENTER PRIME NUMBER\\n\")\n",
        "p = int(input(\"Enter value of p:\"))\n",
        "\n",
        "g = int(input(\"Enter A primitive root of p:\"))\n",
        "\n",
        "a = int(input(\"Enter value of a:\"))\n",
        "b = int(input(\"Enter value of b:\"))\n",
        "\n",
        "x1,x2  = g**a % p,g**b % p\n",
        "print(\"X=\", x1)\n",
        "print(\"Y =\", x2)\n",
        "\n",
        "k1,k2 = x2**a % p,x1**b % p\n",
        "print(\"k1 =\", k1)\n",
        "print(\"k2 =\", k2)"
      ]
    },
    {
      "cell_type": "markdown",
      "source": [
        "#Man in Middle"
      ],
      "metadata": {
        "id": "BGPxlAz_TnDN"
      }
    },
    {
      "cell_type": "code",
      "source": [
        "print(\"ENTER PRIME NUMBER\\n\")\n",
        "#p = int(input(\"Enter value of p:\"))\n",
        "p=227\n",
        "#g = int(input(\"Enter A primitive root of p:\"))\n",
        "q=14\n",
        "#a = int(input(\"Enter key of alice:\"))\n",
        "a=227\n",
        "#b = int(input(\"Enter key of bob:\"))\n",
        "b=170\n",
        "\n",
        "d1,d2=65,175\n",
        "print(\"\\nDarth selects 65 for alice  and  175 for bob\")\n",
        "\n",
        "x1,x2  = g**a % p,g**b % p\n",
        "print(\"\\nAlice published=\", x1)\n",
        "print(\"Bob published=\", x2)\n",
        "\n",
        "d1shared=g**d1%p\n",
        "d2shared=g**d2%p\n",
        "print(\"\\nDarth publish pk for alice\",d1shared)\n",
        "print(\"Darth publish pk for bob\",d2shared)\n",
        "\n",
        "k1=d1shared**a % p\n",
        "dk1 = x1**d1 % p\n",
        "print(\"\\nAlice computed =\", k1)\n",
        "print(\"Darth computed=\",dk1)\n",
        "\n",
        "k2=d2shared**b % p\n",
        "dk2= x2**d2 % p\n",
        "print(\"\\nbob computed =\", k2)\n",
        "print(\"Darth computed=\",dk2)"
      ],
      "metadata": {
        "colab": {
          "base_uri": "https://localhost:8080/"
        },
        "id": "f8YlK_EUboaL",
        "outputId": "90f3083d-694a-4692-e09c-75bdd6909780"
      },
      "execution_count": null,
      "outputs": [
        {
          "output_type": "stream",
          "name": "stdout",
          "text": [
            "ENTER PRIME NUMBER\n",
            "\n",
            "\n",
            "Darth selects 65 for alice  and  175 for bob\n",
            "\n",
            "Alice published= 14\n",
            "Bob published= 101\n",
            "\n",
            "Darth publish pk for alice 41\n",
            "Darth publish pk for bob 32\n",
            "\n",
            "Alice computed = 41\n",
            "Darth computed= 41\n",
            "\n",
            "bob computed = 167\n",
            "Darth computed= 167\n"
          ]
        }
      ]
    },
    {
      "cell_type": "code",
      "source": [],
      "metadata": {
        "id": "7edAvBDD4eoK"
      },
      "execution_count": null,
      "outputs": []
    }
  ]
}